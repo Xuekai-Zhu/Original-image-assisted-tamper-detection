{
 "cells": [
  {
   "cell_type": "code",
   "execution_count": 1,
   "metadata": {},
   "outputs": [],
   "source": [
    "import os\n",
    "os.environ[\"CUDA_VISIBLE_DEVICES\"] = \"0\""
   ]
  },
  {
   "cell_type": "code",
   "execution_count": 2,
   "metadata": {},
   "outputs": [
    {
     "name": "stdout",
     "output_type": "stream",
     "text": [
      "Traceback (most recent call last):\n",
      "  File \"main.py\", line 98, in <module>\n",
      "    main(config)\n",
      "  File \"main.py\", line 48, in main\n",
      "    test_loader = get_loader(config, mode='test')\n",
      "  File \"/root/work/Adversarial_Challenge_race2/re_play/code/SOD100k/dataset/dataset.py\", line 69, in get_loader\n",
      "    dataset = ImageDataTest(config.test_root, config.test_list)\n",
      "  File \"/root/work/Adversarial_Challenge_race2/re_play/code/SOD100k/dataset/dataset.py\", line 47, in __init__\n",
      "    with open(self.data_list, 'r') as f:\n",
      "FileNotFoundError: [Errno 2] No such file or directory: '..../user_data/test_data/match/splicing.txt'\n"
     ]
    }
   ],
   "source": [
    "!python main.py --mode='test' --model='../..user_data/model_data/SOD_epoch_27.pth' --test_fold='../..prediction_result/images' --sal_mode='n'"
   ]
  },
  {
   "cell_type": "code",
   "execution_count": null,
   "metadata": {},
   "outputs": [],
   "source": []
  }
 ],
 "metadata": {
  "kernelspec": {
   "display_name": "Python 3",
   "language": "python",
   "name": "python3"
  },
  "language_info": {
   "codemirror_mode": {
    "name": "ipython",
    "version": 3
   },
   "file_extension": ".py",
   "mimetype": "text/x-python",
   "name": "python",
   "nbconvert_exporter": "python",
   "pygments_lexer": "ipython3",
   "version": "3.7.4"
  }
 },
 "nbformat": 4,
 "nbformat_minor": 4
}
